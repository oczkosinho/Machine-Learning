{
  "nbformat": 4,
  "nbformat_minor": 0,
  "metadata": {
    "colab": {
      "provenance": []
    },
    "kernelspec": {
      "name": "python3",
      "display_name": "Python 3"
    },
    "language_info": {
      "name": "python"
    }
  },
  "cells": [
    {
      "cell_type": "code",
      "execution_count": null,
      "metadata": {
        "id": "OlwmRClhpWsv"
      },
      "outputs": [],
      "source": [
        "import numpy as np\n",
        "import pandas as pd\n",
        "from sklearn.model_selection import train_test_split\n",
        "from sklearn.metrics.pairwise import cosine_similarity\n",
        "import math as m\n",
        "\n",
        "#Wczytanie, podział i preprocessing danych\n",
        "\n",
        "col_names = [\"user_id\",\"movie_id\",\"rating\"]\n",
        "ratings_data=pd.read_csv(\"/content/drive/MyDrive/rec/u.data\", sep=\"\\t\", names=col_names, usecols=['user_id', \"movie_id\", \"rating\"])\n",
        "#print(ratings_data.head)\n",
        "\n",
        "X=ratings_data.copy()\n",
        "X=X.drop(\"rating\", axis=1)\n",
        "Y=ratings_data[\"rating\"]\n",
        "\n",
        "X_train, X_test, Y_train, Y_test = train_test_split(X, Y, test_size=0.2, shuffle=True)\n",
        "#print(X_train.shape)\n",
        "\n",
        "X_train = X_train.values\n",
        "X_test = X_test.values\n",
        "Y_train = Y_train.values\n",
        "Y_test = Y_test.values\n",
        "\n",
        "ratings_df = ratings_data.pivot(index='user_id', columns='movie_id', values='rating').fillna(0)\n",
        "#print(ratings_df)\n",
        "\n",
        "#Tutaj próba cosine similarity\n",
        "\n",
        "#cos_sim = cosine_similarity(ratings_df,ratings_df)\n",
        "#print(cos_sim)\n",
        "#sim_matrix = pd.DataFrame(cos_sim, index=ratings_df.index, columns=ratings_df.index)\n",
        "#print(sim_matrix)\n",
        "\n",
        "#Pearson similarity i obliczanie średniej\n",
        "\n",
        "ratings_matrix = ratings_df.values\n",
        "user_sim = np.corrcoef(ratings_matrix)\n",
        "#print(user_sim)\n",
        "\n",
        "mean_ratings = np.zeros(943)\n",
        "for i in range(943):\n",
        "  if np.count_nonzero(ratings_matrix[:, i]) == 0:\n",
        "    mean_ratings[i] = 0\n",
        "  else:             \n",
        "    mean_ratings[i] = np.sum(ratings_matrix[:, i])/np.count_nonzero(ratings_matrix[:, i])\n",
        "#print(mean_ratings)\n",
        "\n",
        "#Funkcje\n",
        "\n",
        "def get_k_nearest(correlations,k):\n",
        "    sort_corr = np.sort(correlations)\n",
        "    k_nearest = sort_corr[-k-1:-1]\n",
        "    k_nearest = np.array(k_nearest)\n",
        "    return  k_nearest\n",
        "\n",
        "def prediction(k):\n",
        "  predict = []\n",
        "  for x in range(Y_test.size):\n",
        "    user = X_test[x][0]-1\n",
        "    movie_id = X_test[x][1]-1\n",
        "    top = 0\n",
        "    bottom = 0\n",
        "    k_nearest = get_k_nearest(user_sim[user,:], k)\n",
        "    for y in range(943):\n",
        "      if ratings_matrix[y, movie_id] != 0:\n",
        "        if user_sim[user, y] in k_nearest:\n",
        "          sim = user_sim[user, y]\n",
        "          means = ratings_matrix[y, movie_id]-mean_ratings[y]\n",
        "          top += sim * means\n",
        "          bottom += sim\n",
        "    if bottom > 0:\n",
        "      predict.append(mean_ratings[user] + (top/bottom))\n",
        "    else:\n",
        "      predict.append(0)\n",
        "  return predict\n",
        "\n",
        "def rmse(p):\n",
        "  sum = 0\n",
        "  for i in range(len(p)):\n",
        "    sum += pow(abs(p[i] - Y_test[i]),2)\n",
        "  rmse = m.sqrt(1/len(p)*sum)\n",
        "  return rmse\n",
        "\n",
        "def mae(p):\n",
        "  sum = 0\n",
        "  for i in range(len(p)):\n",
        "    sum += abs(p[i] - Y_test[i])\n",
        "  mae = 1/len(p)*sum\n",
        "  return mae\n",
        "\n",
        "#Obliczanie błędów\n",
        "\n",
        "for x in range(10, 100, 20):\n",
        "  e=prediction(x)\n",
        "  print(\"Values of errors for k = \"+str(x))\n",
        "  print(\"Root Mean Square Error: \"+str(rmse(e)))\n",
        "  print(\"Mean Absolute Error: \"+str(mae(e)))\n",
        "\n",
        "for x in range(100, 1000, 200):\n",
        "  e=prediction(x)\n",
        "  print(\"Values of errors for k = \"+str(x))\n",
        "  print(\"Root Mean Square Error: \"+str(rmse(e)))\n",
        "  print(\"Mean Absolute Error: \"+str(mae(e)))"
      ]
    },
    {
      "cell_type": "code",
      "source": [
        "#Dodatkowo chciałem znaleźć najbardziej optymalne k\n",
        "for x in range(400, 570, 10):\n",
        "  e=prediction(x)\n",
        "  print(\"Values of errors for k = \"+str(x))\n",
        "  print(\"Root Mean Square Error: \"+str(rmse(e)))\n",
        "  print(\"Mean Absolute Error: \"+str(mae(e)))"
      ],
      "metadata": {
        "id": "_uRjTd0BB3Fb"
      },
      "execution_count": null,
      "outputs": []
    },
    {
      "cell_type": "markdown",
      "source": [
        "**Po predykcji uzyskałem takie wartości dla błędów:**\n",
        "\n",
        "Values of errors for k = 10\n",
        "* Root Mean Square Error: 1.5242340491924888\n",
        "* Mean Absolute Error: 1.1605596833780218\n",
        "\n",
        "Values of errors for k = 30\n",
        "* Root Mean Square Error: 1.3187188926025402\n",
        "* Mean Absolute Error: 1.0211834279859358\n",
        "\n",
        "Values of errors for k = 50\n",
        "* Root Mean Square Error: 1.2673690316588953\n",
        "* Mean Absolute Error: 0.9890128890652603\n",
        "\n",
        "Values of errors for k = 70\n",
        "* Root Mean Square Error: 1.2393702949146346\n",
        "* Mean Absolute Error: 0.9706871976565834\n",
        "\n",
        "Values of errors for k = 90\n",
        "* Root Mean Square Error: 1.2300634290425976\n",
        "* Mean Absolute Error: 0.964566342888497\n",
        "\n",
        "Values of errors for k = 100\n",
        "* Root Mean Square Error: 1.2280967226539627\n",
        "* Mean Absolute Error: 0.9636672138467832\n",
        "\n",
        "Values of errors for k = 300\n",
        "* Root Mean Square Error: 1.2121299919417168\n",
        "* Mean Absolute Error: 0.956650452985221\n",
        "\n",
        "Values of errors for k = 500\n",
        "* Root Mean Square Error: 1.2101455574973712\n",
        "* Mean Absolute Error: 0.9562652828687958\n",
        "\n",
        "Values of errors for k = 700\n",
        "* Root Mean Square Error: 1.210635791570899\n",
        "* Mean Absolute Error: 0.9574653046930408\n",
        "\n",
        "Values of errors for k = 900\n",
        "* Root Mean Square Error: 1.2111190953469082\n",
        "* Mean Absolute Error: 0.9576507916364212\n",
        "\n",
        "Po żmudnej robocie szukania najbardziej optymalnego k wyszło mi:\n",
        "około k=420 dla najmniejszego RMSE\n",
        "około k=430 dla najmniejszego MAE\n"
      ],
      "metadata": {
        "id": "757ULDzBEJar"
      }
    },
    {
      "cell_type": "code",
      "source": [
        "#Naive Recommender\n",
        "#print(ratings_matrix)\n",
        "naive = np.mean(ratings_matrix, axis=0)\n",
        "print(\"MAE: \" + str(mae(naive)))\n",
        "print(\"RMSE: \" + str(rmse(naive)))"
      ],
      "metadata": {
        "colab": {
          "base_uri": "https://localhost:8080/"
        },
        "id": "KCoybsvAH_Eq",
        "outputId": "44dfafe1-0305-4012-b632-0a610e29131b"
      },
      "execution_count": 88,
      "outputs": [
        {
          "output_type": "stream",
          "name": "stdout",
          "text": [
            "MAE: 3.3199701663045698\n",
            "RMSE: 3.524081577268136\n"
          ]
        }
      ]
    },
    {
      "cell_type": "markdown",
      "source": [
        "Porównując CF vs Naive Recommender nie da się zauważyć, że CF deklasuje przeciwnika pod względem obu miar błędów."
      ],
      "metadata": {
        "id": "uHTRIFDyJAVj"
      }
    }
  ]
}