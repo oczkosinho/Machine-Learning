{
  "cells": [
    {
      "cell_type": "markdown",
      "metadata": {
        "id": "n4WWgxvaqwu8"
      },
      "source": [
        "#Tytuł: Rozpoznawanie Cyferek\n",
        "Wiktor Oczkoś\\\n",
        "Przetwarzanie danych w Biznesie\\\n",
        "\n",
        "\n"
      ]
    },
    {
      "cell_type": "markdown",
      "metadata": {
        "id": "RC-XhiQxuD02"
      },
      "source": [
        "#Problem badawczy:\n",
        "Czy prosty model machine learning'owy potrafi zidentyfikować cyfry używając danych pobranych z bazy MNIST?"
      ]
    },
    {
      "cell_type": "markdown",
      "metadata": {
        "id": "xmj3kvR2vbMp"
      },
      "source": [
        "#Opis metody:"
      ]
    },
    {
      "cell_type": "markdown",
      "metadata": {
        "id": "WSe3_d67_s0D"
      },
      "source": [
        "W tym projekcie zdecydowałem się użyć paczek tensorflow/keras do zamodelowania, trenowania i predykcji. Dodatkowo użyłem paczek numpy i matplotlib, żeby lepiej zwizualizować dane."
      ]
    },
    {
      "cell_type": "markdown",
      "metadata": {
        "id": "tI0ASWYevhDc"
      },
      "source": [
        "#Dane wejściowe:\n"
      ]
    },
    {
      "cell_type": "markdown",
      "metadata": {
        "id": "2nkzJmSq_9j4"
      },
      "source": [
        "Dane wejściowe zostały pobrane z MNIST dataset, który okazał się być dostępny w kerasowych datasetach.\\\n",
        "Podział danych: \\\n",
        "- Część treningowa: 60000\n",
        "- Część testowa: 10000 \\\n",
        "\n",
        "Każdy obraz jest w formacie 28x28 pikseli\n"
      ]
    },
    {
      "cell_type": "code",
      "execution_count": 2,
      "metadata": {
        "colab": {
          "base_uri": "https://localhost:8080/"
        },
        "id": "upg8_8eG_x8u",
        "outputId": "c0c4fa24-ff37-4405-f608-5c6fd89ca8eb"
      },
      "outputs": [
        {
          "name": "stdout",
          "output_type": "stream",
          "text": [
            "Downloading data from https://storage.googleapis.com/tensorflow/tf-keras-datasets/mnist.npz\n",
            "11490434/11490434 [==============================] - 0s 0us/step\n"
          ]
        }
      ],
      "source": [
        "import numpy as np\n",
        "import pandas as pd\n",
        "import keras\n",
        "import tensorflow as tf\n",
        "from keras.models import Sequential\n",
        "from keras.layers import Dense, Dropout, Flatten\n",
        "from sklearn.model_selection import train_test_split\n",
        "import matplotlib.pyplot as plt\n",
        "%matplotlib inline\n",
        "\n",
        "mnist = tf.keras.datasets.mnist\n",
        "(x_train, y_train), (x_test, y_test) = mnist.load_data()"
      ]
    },
    {
      "cell_type": "code",
      "execution_count": 12,
      "metadata": {
        "colab": {
          "base_uri": "https://localhost:8080/"
        },
        "id": "3rl0lgqHqdgG",
        "outputId": "29a27f43-42d4-4306-e6e9-e50026fbecbb"
      },
      "outputs": [
        {
          "name": "stdout",
          "output_type": "stream",
          "text": [
            "(60000, 28, 28) (60000,)\n",
            "(10000, 28, 28) (10000,)\n"
          ]
        }
      ],
      "source": [
        "print(x_train.shape, y_train.shape)\n",
        "print(x_test.shape, y_test.shape)"
      ]
    },
    {
      "cell_type": "code",
      "execution_count": 11,
      "metadata": {
        "colab": {
          "base_uri": "https://localhost:8080/",
          "height": 265
        },
        "id": "P_FZ8fbo0rpm",
        "outputId": "8f612977-3616-4f1e-bd2a-c2697fd3b9dd"
      },
      "outputs": [
        {
          "data": {
            "image/png": "[encoded data removed]",
            "text/plain": [
              "<Figure size 432x288 with 1 Axes>"
            ]
          },
          "metadata": {
            "needs_background": "light"
          },
          "output_type": "display_data"
        }
      ],
      "source": [
        "plt.imshow(x_train[0], cmap=plt.cm.binary)\n",
        "plt.show()"
      ]
    },
    {
      "cell_type": "markdown",
      "metadata": {
        "id": "kACphaR6tySa"
      },
      "source": [
        "#Implementacja metody:"
      ]
    },
    {
      "cell_type": "code",
      "execution_count": 19,
      "metadata": {
        "colab": {
          "base_uri": "https://localhost:8080/"
        },
        "id": "cFwuA9atzJ3v",
        "outputId": "fdae6a24-0924-4c3e-bbf1-8572ef75fce4"
      },
      "outputs": [
        {
          "name": "stdout",
          "output_type": "stream",
          "text": [
            "Model: \"sequential_6\"\n",
            "_________________________________________________________________\n",
            " Layer (type)                Output Shape              Param #   \n",
            "=================================================================\n",
            " flatten_6 (Flatten)         (None, 784)               0         \n",
            "                                                                 \n",
            " dense_18 (Dense)            (None, 128)               100480    \n",
            "                                                                 \n",
            " dense_19 (Dense)            (None, 128)               16512     \n",
            "                                                                 \n",
            " dense_20 (Dense)            (None, 10)                1290      \n",
            "                                                                 \n",
            "=================================================================\n",
            "Total params: 118,282\n",
            "Trainable params: 118,282\n",
            "Non-trainable params: 0\n",
            "_________________________________________________________________\n",
            "Accuracy: 97.329998\n"
          ]
        }
      ],
      "source": [
        "from keras.utils.np_utils import normalize\n",
        "#x_train = x_train / 255\n",
        "#x_test = x_test / 255\n",
        "\n",
        "x_train=normalize(x_train, axis=1)\n",
        "x_test=normalize(x_test, axis=1)\n",
        "\n",
        "model = Sequential()\n",
        "model.add(Flatten(input_shape=(28,28)))\n",
        "model.add(Dense(128,activation='relu'))\n",
        "model.add(Dense(128,activation='relu'))\n",
        "model.add(Dense(10,activation='softmax'))\n",
        "\n",
        "model.compile(loss='sparse_categorical_crossentropy', optimizer='adam',  metrics=['accuracy'])\n",
        "model.summary()\n",
        "\n",
        "model.fit(x_train, y_train, epochs=10, batch_size=256, verbose=0)\n",
        "loss, accuracy = model.evaluate(x_test, y_test, verbose=0)\n",
        "print('Accuracy: %f' % (accuracy*100))"
      ]
    },
    {
      "cell_type": "markdown",
      "metadata": {
        "id": "8QPSbTHt6LeF"
      },
      "source": [
        "#Ocena i dyskusja:"
      ]
    },
    {
      "cell_type": "code",
      "execution_count": 29,
      "metadata": {
        "colab": {
          "base_uri": "https://localhost:8080/",
          "height": 317
        },
        "id": "vTQGOCiQ6Ogt",
        "outputId": "602b5911-6375-4d76-d7a7-43e7b938a1f7"
      },
      "outputs": [
        {
          "name": "stdout",
          "output_type": "stream",
          "text": [
            "313/313 [==============================] - 0s 1ms/step\n"
          ]
        },
        {
          "data": {
            "image/png": "[encoded data removed]",
            "text/plain": [
              "<Figure size 432x288 with 1 Axes>"
            ]
          },
          "metadata": {
            "needs_background": "light"
          },
          "output_type": "display_data"
        },
        {
          "name": "stdout",
          "output_type": "stream",
          "text": [
            "Predicted: 9\n",
            "Actual: 9\n"
          ]
        }
      ],
      "source": [
        "y_pred=model.predict(x_test)\n",
        "y_pred_num=np.argmax(y_pred, axis=1)\n",
        "\n",
        "id = np.random.choice(len(y_pred))\n",
        "\n",
        "plt.imshow(x_test[id], cmap=plt.cm.binary)\n",
        "plt.show()\n",
        "\n",
        "print(\"Predicted: \"+str(y_pred_num[id]))\n",
        "print(\"Actual: \"+str(y_test[id]))\n"
      ]
    },
    {
      "cell_type": "markdown",
      "metadata": {
        "id": "TP9hl23O-z2p"
      },
      "source": [
        "Jak widzimy model sprawdza się całkiem nieźle.\\\n",
        "Wynik accuracy około 97% jest bardzo zadowalający i rzeczywiście model poprawnie przewiduje cyferki.\\\n",
        "Chciałem zaimplementować dodatkowo możliwość własnego rysowania cyferek, lecz nie starczyło na to czasu :( \\\n",
        "Dodatkowo można rozważyć tutaj użycie innych layerów takich jak Conv2D, który na pewno nadałby się do takiego projektu.\n"
      ]
    },
    {
      "cell_type": "markdown",
      "metadata": {
        "id": "T-pRhikZ-xAm"
      },
      "source": [
        "#Referencje:\n",
        "\n",
        "- https://www.youtube.com/watch?v=VwVg9jCtqaU&t=1637s\n",
        "- https://www.tensorflow.org/datasets/catalog/mnist"
      ]
    }
  ],
  "metadata": {
    "colab": {
      "provenance": []
    },
    "kernelspec": {
      "display_name": "Python 3",
      "name": "python3"
    },
    "language_info": {
      "name": "python"
    }
  },
  "nbformat": 4,
  "nbformat_minor": 0
}
